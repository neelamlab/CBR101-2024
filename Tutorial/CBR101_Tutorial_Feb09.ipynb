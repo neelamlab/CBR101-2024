{
  "nbformat": 4,
  "nbformat_minor": 0,
  "metadata": {
    "colab": {
      "provenance": []
    },
    "kernelspec": {
      "name": "python3",
      "display_name": "Python 3"
    },
    "language_info": {
      "name": "python"
    }
  },
  "cells": [
    {
      "cell_type": "markdown",
      "source": [
        "#Tutorial"
      ],
      "metadata": {
        "id": "PguKDjnTG-_0"
      }
    },
    {
      "cell_type": "markdown",
      "metadata": {
        "id": "YorazAvtB_-d"
      },
      "source": [
        "Task 1: Read and Display an Image\n"
      ]
    },
    {
      "cell_type": "code",
      "execution_count": null,
      "metadata": {
        "id": "b-1QokVHHC2M"
      },
      "outputs": [],
      "source": [
        "import cv2\n",
        "from google.colab.patches import cv2_imshow\n",
        "import numpy as np\n",
        "import matplotlib.pyplot as plt\n",
        "\n",
        "\n",
        "# Read image from file\n",
        "img = cv2.imread(\"/content/R.jpg\")\n",
        "print(img.shape)\n",
        "\n",
        "# Display the image\n",
        "cv2_imshow(img)"
      ]
    },
    {
      "cell_type": "markdown",
      "metadata": {
        "id": "DH6EIuoiCChh"
      },
      "source": [
        "Task 2: Convert Image to Grayscale"
      ]
    },
    {
      "cell_type": "code",
      "execution_count": null,
      "metadata": {
        "id": "4WxkX476CEMX"
      },
      "outputs": [],
      "source": [
        "# Convert image to grayscale\n",
        "gray_img = cv2.cvtColor(img, cv2.COLOR_BGR2GRAY)\n",
        "print(gray_img.shape)\n",
        "# Display the grayscale image\n",
        "cv2_imshow(gray_img)"
      ]
    },
    {
      "cell_type": "markdown",
      "metadata": {
        "id": "thtLk9tNCGFo"
      },
      "source": [
        "Task 3: Resize Image\n"
      ]
    },
    {
      "cell_type": "code",
      "execution_count": null,
      "metadata": {
        "id": "WPvKSu4ICH8Y"
      },
      "outputs": [],
      "source": [
        "# Define new dimensions\n",
        "new_width = 300\n",
        "new_height = 200\n",
        "\n",
        "# Resize image\n",
        "resized_img = cv2.resize(img, (new_width, new_height))\n",
        "print(resized_img.shape)\n",
        "# Display the resized image\n",
        "cv2_imshow(resized_img)"
      ]
    },
    {
      "cell_type": "markdown",
      "metadata": {
        "id": "xvA63ZRJCN7_"
      },
      "source": [
        "Task 4: Rotate Image\n"
      ]
    },
    {
      "cell_type": "code",
      "execution_count": null,
      "metadata": {
        "id": "qSiCOjoHCPmA"
      },
      "outputs": [],
      "source": [
        "# Rotate clockwise by 90 degrees\n",
        "rotated_img = cv2.rotate(img, cv2.ROTATE_90_CLOCKWISE)\n",
        "print(rotated_img.shape)\n",
        "# Display the rotated image\n",
        "cv2_imshow(rotated_img)"
      ]
    },
    {
      "cell_type": "markdown",
      "metadata": {
        "id": "8-fK94WFCSBu"
      },
      "source": [
        "Task 5: Blur Image\n"
      ]
    },
    {
      "cell_type": "code",
      "execution_count": null,
      "metadata": {
        "id": "iqnX-g2UCTzQ"
      },
      "outputs": [],
      "source": [
        "# Define kernel size for blurring\n",
        "kernel_size = 5\n",
        "\n",
        "# Apply Gaussian blur\n",
        "blurred_img = cv2.GaussianBlur(img, (kernel_size, kernel_size), 1)\n",
        "\n",
        "# Display the blurred image\n",
        "cv2_imshow(blurred_img)"
      ]
    },
    {
      "cell_type": "markdown",
      "metadata": {
        "id": "pCaRgdpcCXBS"
      },
      "source": [
        "Task 6: Edge Detection\n"
      ]
    },
    {
      "cell_type": "code",
      "execution_count": null,
      "metadata": {
        "id": "_zrone4XCUaZ"
      },
      "outputs": [],
      "source": [
        "# Apply Canny edge detection\n",
        "edges = cv2.Canny(gray_img, threshold1=30, threshold2=100)\n",
        "\n",
        "# Display the edges\n",
        "cv2_imshow(edges)"
      ]
    },
    {
      "cell_type": "markdown",
      "metadata": {
        "id": "DfxLte-xCa4s"
      },
      "source": [
        "Task 7: Thresholding\n"
      ]
    },
    {
      "cell_type": "code",
      "execution_count": null,
      "metadata": {
        "id": "KXDkU60BCUW2"
      },
      "outputs": [],
      "source": [
        "# Apply binary thresholding\n",
        "ret, thresh_img = cv2.threshold(gray_img, 127, 255, cv2.THRESH_BINARY)\n",
        "\n",
        "# Display the thresholded image\n",
        "cv2_imshow(thresh_img)"
      ]
    },
    {
      "cell_type": "markdown",
      "metadata": {
        "id": "MU10NmvqCgJ8"
      },
      "source": [
        "Task 8: Drawing Shapes on Image\n"
      ]
    },
    {
      "cell_type": "code",
      "execution_count": null,
      "metadata": {
        "id": "oIw5W3RpCUUY"
      },
      "outputs": [],
      "source": [
        "# Draw rectangle\n",
        "cv2.rectangle(img, (100, 100), (200, 200), (0, 255, 0), thickness=2)\n",
        "\n",
        "# Draw circle\n",
        "cv2.circle(img, (300, 150), 50, (0, 0, 255), thickness=-1)  # Negative thickness fills the circle\n",
        "\n",
        "# Draw line\n",
        "cv2.line(img, (50, 300), (250, 400), (255, 0, 0), thickness=3)\n",
        "\n",
        "# Display the image with shapes\n",
        "cv2_imshow(img)\n"
      ]
    },
    {
      "cell_type": "markdown",
      "metadata": {
        "id": "pzzmI4s5Cj8Y"
      },
      "source": [
        "Task 9: Image Cropping\n"
      ]
    },
    {
      "cell_type": "code",
      "execution_count": null,
      "metadata": {
        "id": "P9dnJIFLCUR4"
      },
      "outputs": [],
      "source": [
        "# Crop a region of interest (ROI)\n",
        "cropped_img = img[100:300, 200:400]\n",
        "\n",
        "# Display the cropped image\n",
        "cv2_imshow(cropped_img)"
      ]
    },
    {
      "cell_type": "markdown",
      "metadata": {
        "id": "i_6B20giCoNi"
      },
      "source": [
        "Task 10: Image Arithmetic Operations\n"
      ]
    },
    {
      "cell_type": "code",
      "execution_count": null,
      "metadata": {
        "id": "dAnCi00UCmS6"
      },
      "outputs": [],
      "source": [
        "img1 = cv2.imread('/content/R.jpg')\n",
        "img2 = cv2.imread('/content/Sunrise.jpg')\n",
        "#print(img1.shape, img2.shape)\n",
        "img1 = cv2.resize(img1, (400, 300))\n",
        "img2 = cv2.resize(img2, (400, 300))\n",
        "\n",
        "# Add two images\n",
        "added_img = cv2.add(img1, img2)\n",
        "# Subtract two images\n",
        "subtracted_img = cv2.subtract(img1, img2)\n"
      ]
    },
    {
      "cell_type": "code",
      "execution_count": null,
      "metadata": {
        "id": "rSwOev0KLFU0"
      },
      "outputs": [],
      "source": [
        "cv2_imshow(added_img)"
      ]
    },
    {
      "cell_type": "code",
      "execution_count": null,
      "metadata": {
        "id": "QqwZJWtDLKt6"
      },
      "outputs": [],
      "source": [
        "cv2_imshow(subtracted_img)"
      ]
    },
    {
      "cell_type": "markdown",
      "metadata": {
        "id": "CT6vlnTyCzP1"
      },
      "source": [
        "Task 11: Fourier Transform on Images\n"
      ]
    },
    {
      "cell_type": "code",
      "execution_count": null,
      "metadata": {
        "id": "QdtbAnqvMHbg"
      },
      "outputs": [],
      "source": [
        "import cv2\n",
        "import numpy as np\n",
        "import matplotlib.pyplot as plt\n",
        "\n",
        "image_path = '/content/R.jpg'\n",
        "image = cv2.imread(image_path, cv2.IMREAD_GRAYSCALE)\n",
        "\n",
        "# Perform Fourier Transformation\n",
        "fft_result = np.fft.fft2(image)\n",
        "fft_result_shifted = np.fft.fftshift(fft_result)\n",
        "magnitude_spectrum = np.log(np.abs(fft_result_shifted) + 1)\n",
        "\n",
        "# Plot the original image and its Fourier Transform\n",
        "plt.subplot(1, 2, 1)\n",
        "plt.imshow(image, cmap='gray')\n",
        "plt.title('Original Image')\n",
        "\n",
        "plt.subplot(1, 2, 2)\n",
        "plt.imshow(magnitude_spectrum, cmap='gray')\n",
        "plt.title('Fourier Transform')\n",
        "plt.colorbar()\n",
        "\n",
        "plt.tight_layout()\n",
        "plt.show()\n"
      ]
    },
    {
      "cell_type": "code",
      "source": [
        "# phase_spectrum\n",
        "phase_spectrum = np.angle(fft_result_shifted)\n",
        "plt.imshow(phase_spectrum, cmap='gray')\n"
      ],
      "metadata": {
        "id": "mDz7k3ceh14C"
      },
      "execution_count": null,
      "outputs": []
    },
    {
      "cell_type": "code",
      "source": [
        "# Perform Inverse Fourier Transformation\n",
        "ifft_result_shifted = np.fft.ifftshift(fft_result_shifted)\n",
        "ifft_result = np.fft.ifft2(ifft_result_shifted)\n",
        "reconstructed_image = np.abs(ifft_result)\n",
        "\n",
        "# Plot the original image, its Fourier Transform, and the reconstructed image\n",
        "plt.figure(figsize=(12, 6))\n",
        "\n",
        "plt.subplot(1, 3, 1)\n",
        "plt.imshow(image, cmap='gray')\n",
        "plt.title('Original Image')\n",
        "\n",
        "plt.subplot(1, 3, 2)\n",
        "plt.imshow(magnitude_spectrum, cmap='gray')\n",
        "plt.title('Fourier Transform')\n",
        "plt.colorbar()\n",
        "\n",
        "plt.subplot(1, 3, 3)\n",
        "plt.imshow(reconstructed_image, cmap='gray')\n",
        "plt.title('Reconstructed Image')\n",
        "\n",
        "plt.tight_layout()\n",
        "plt.show()"
      ],
      "metadata": {
        "id": "lckRFKlfHWQ8"
      },
      "execution_count": null,
      "outputs": []
    },
    {
      "cell_type": "code",
      "source": [],
      "metadata": {
        "id": "O84i5C4VHWtD"
      },
      "execution_count": null,
      "outputs": []
    }
  ]
}